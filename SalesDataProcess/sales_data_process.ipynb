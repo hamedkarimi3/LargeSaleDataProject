{
 "cells": [
  {
   "cell_type": "markdown",
   "metadata": {},
   "source": [
    "Convert txt file to CSV:"
   ]
  },
  {
   "cell_type": "code",
   "execution_count": null,
   "metadata": {},
   "outputs": [],
   "source": [
    "import pandas as pd\n",
    "\n",
    "#sample data in dic format\n",
    "\n",
    "data = {\n",
    "    \"Date\": [\n",
    "         \"2023-01-01\", \"2023-01-01\", \"2023-01-02\", \"2023-01-02\",\n",
    "        \"2023-01-03\", \"2023-01-03\", \"2023-01-04\", \"2023-01-05\",\n",
    "        \"2023-01-05\", \"2023-01-06\", \"2023-01-06\", \"2023-01-07\",\n",
    "        \"2023-01-07\", \"2023-01-08\", \"2023-01-08\"\n",
    "    ],\n",
    "    \"Product\": [\n",
    "        \"Widget A\", \"Widget B\", \"Widget A\", \"Widget C\", \n",
    "        \"Widget A\", \"Widget B\", \"Widget C\", \"Widget A\", \n",
    "        \"Widget B\", \"Widget D\", \"Widget E\", \"Widget A\", \n",
    "        \"Widget C\", \"Widget D\", \"Widget B\"\n",
    "    ],\n",
    "    \"Quantity\": [\n",
    "        10, 5, 8, 3, 15, None, 7, 10, 10, 5, 3, 12, 6, 8, 10\n",
    "    ],\n",
    "     \"Price\": [\n",
    "        15.5, 20.0, 15.5, 25.0, None, 20.0, 25.0, 15.5, \n",
    "        20.0, 30.0, 40.0, 15.5, 25.0, 30.0, 20.0\n",
    "    ],\n",
    "\n",
    "}\n",
    "\n",
    "#convert dictionary to DataFrame\n",
    "df = pd.DataFrame(data)\n",
    "\n",
    "#save DataFrame to csv\n",
    "df.to_csv(\"sales_data.csv\", index=False)\n",
    "print(\"Data saved to 'sales_data.csv'\")"
   ]
  },
  {
   "cell_type": "markdown",
   "metadata": {},
   "source": [
    "Sales Data Processing "
   ]
  },
  {
   "cell_type": "markdown",
   "metadata": {},
   "source": [
    "Step 1: Data Ingestion"
   ]
  },
  {
   "cell_type": "code",
   "execution_count": null,
   "metadata": {},
   "outputs": [],
   "source": [
    "import pandas as pd\n",
    "\n",
    "#load data from csv\n",
    "data = pd.read_csv(\"sales_data.csv\")\n",
    "\n",
    "#Display the data\n",
    "print(data)"
   ]
  },
  {
   "cell_type": "markdown",
   "metadata": {},
   "source": [
    "tep 2: Data Cleaning"
   ]
  },
  {
   "cell_type": "code",
   "execution_count": null,
   "metadata": {},
   "outputs": [],
   "source": [
    "#check for missing values\n",
    "\n",
    "print(data.isnull().sum())\n",
    "\n",
    "#Fill missing  'Quantity' with 0, 'Price' with mean, and drop rows with missing 'Date' or 'Product'\n",
    "data['Quantity'].fillna(0, inplace=True)\n",
    "data['Price'].fillna(data['Price'].mean(), inplace=True)\n",
    "data.dropna(subset=['Date','Product'], inplace=True)\n",
    "\n",
    "#Remove duplicates\n",
    "data.drop_duplicates(inplace=True)\n",
    "\n",
    "#Verify the cleaning\n",
    "print(data.isnull().sum())\n"
   ]
  },
  {
   "cell_type": "markdown",
   "metadata": {},
   "source": [
    "Step 3: Data Transformation"
   ]
  },
  {
   "cell_type": "code",
   "execution_count": null,
   "metadata": {},
   "outputs": [],
   "source": [
    "#Create a new coulmn for Total sales\n",
    "\n",
    "data['Total_Sales'] = data['Quantity'] * data['Price']\n",
    "\n",
    "#Display the transformed data\n",
    "print(data)"
   ]
  },
  {
   "cell_type": "markdown",
   "metadata": {},
   "source": [
    "Step 4: Data Analysis"
   ]
  },
  {
   "cell_type": "code",
   "execution_count": null,
   "metadata": {},
   "outputs": [],
   "source": [
    "#Group by product and sum up total sales\n",
    "product_sales = data.groupby('Product')['Total_Sales'].sum().reset_index()\n",
    "\n",
    "#Display the sales per product\n",
    "print(product_sales)"
   ]
  },
  {
   "cell_type": "markdown",
   "metadata": {},
   "source": [
    "Visualize the total sales per product"
   ]
  },
  {
   "cell_type": "code",
   "execution_count": null,
   "metadata": {},
   "outputs": [],
   "source": [
    "import matplotlib.pyplot as plt \n",
    "\n",
    "#Plot total sales per product\n",
    "plt.figure(figsize=(10, 6))\n",
    "plt.bar(product_sales['Product'], product_sales['Total_Sales'])\n",
    "plt.xlabel('Product')\n",
    "plt.ylabel('Total Sales')\n",
    "plt.title('Total Sales per Product')\n",
    "plt.show()"
   ]
  },
  {
   "cell_type": "markdown",
   "metadata": {},
   "source": [
    "# show by pie chart"
   ]
  },
  {
   "cell_type": "code",
   "execution_count": null,
   "metadata": {},
   "outputs": [],
   "source": [
    "# create a pie chart of total sales per product\n",
    "plt.figure(figsize=(6, 4))\n",
    "plt.pie(product_sales['Total_Sales'], labels=product_sales['Product'], autopct='%1.1f%%')\n",
    "plt.title('Total Sales per Product')\n",
    "plt.show()"
   ]
  },
  {
   "cell_type": "markdown",
   "metadata": {},
   "source": [
    "Step 5: Save the Cleaned Data"
   ]
  },
  {
   "cell_type": "code",
   "execution_count": null,
   "metadata": {},
   "outputs": [],
   "source": [
    "#Save the cleaned and processed data to a new csv file\n",
    "\n",
    "data.to_csv(\"cleand_sales_data.csv\", index=False)\n",
    "\n",
    "print(\"Data saved to cleaned_sales_data.csv\")"
   ]
  }
 ],
 "metadata": {
  "kernelspec": {
   "display_name": "Python 3",
   "language": "python",
   "name": "python3"
  },
  "language_info": {
   "codemirror_mode": {
    "name": "ipython",
    "version": 3
   },
   "file_extension": ".py",
   "mimetype": "text/x-python",
   "name": "python",
   "nbconvert_exporter": "python",
   "pygments_lexer": "ipython3",
   "version": "3.13.0"
  }
 },
 "nbformat": 4,
 "nbformat_minor": 2
}

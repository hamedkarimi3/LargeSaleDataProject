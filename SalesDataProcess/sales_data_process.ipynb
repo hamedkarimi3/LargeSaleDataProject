{
 "cells": [
  {
   "cell_type": "markdown",
   "metadata": {},
   "source": [
    "Convert txt file to CSV:"
   ]
  },
  {
   "cell_type": "code",
   "execution_count": 2,
   "metadata": {},
   "outputs": [
    {
     "name": "stdout",
     "output_type": "stream",
     "text": [
      "Data saved to 'sales_data.csv'\n"
     ]
    }
   ],
   "source": [
    "import pandas as pd\n",
    "\n",
    "#sample data in dic format\n",
    "\n",
    "data = {\n",
    "    \"Date\": [\n",
    "         \"2023-01-01\", \"2023-01-01\", \"2023-01-02\", \"2023-01-02\",\n",
    "        \"2023-01-03\", \"2023-01-03\", \"2023-01-04\", \"2023-01-05\",\n",
    "        \"2023-01-05\", \"2023-01-06\", \"2023-01-06\", \"2023-01-07\",\n",
    "        \"2023-01-07\", \"2023-01-08\", \"2023-01-08\"\n",
    "    ],\n",
    "    \"Product\": [\n",
    "        \"Widget A\", \"Widget B\", \"Widget A\", \"Widget C\", \n",
    "        \"Widget A\", \"Widget B\", \"Widget C\", \"Widget A\", \n",
    "        \"Widget B\", \"Widget D\", \"Widget E\", \"Widget A\", \n",
    "        \"Widget C\", \"Widget D\", \"Widget B\"\n",
    "    ],\n",
    "    \"Quantity\": [\n",
    "        10, 5, 8, 3, 15, None, 7, 10, 10, 5, 3, 12, 6, 8, 10\n",
    "    ],\n",
    "     \"Price\": [\n",
    "        15.5, 20.0, 15.5, 25.0, None, 20.0, 25.0, 15.5, \n",
    "        20.0, 30.0, 40.0, 15.5, 25.0, 30.0, 20.0\n",
    "    ],\n",
    "\n",
    "}\n",
    "\n",
    "#convert dictionary to DataFrame\n",
    "df = pd.DataFrame(data)\n",
    "\n",
    "#save DataFrame to csv\n",
    "df.to_csv(\"sales_data.csv\", index=False)\n",
    "print(\"Data saved to 'sales_data.csv'\")"
   ]
  },
  {
   "cell_type": "markdown",
   "metadata": {},
   "source": [
    "Sales Data Processing "
   ]
  },
  {
   "cell_type": "markdown",
   "metadata": {},
   "source": [
    "Step 1: Data Ingestion"
   ]
  },
  {
   "cell_type": "code",
   "execution_count": 3,
   "metadata": {},
   "outputs": [
    {
     "name": "stdout",
     "output_type": "stream",
     "text": [
      "          Date   Product  Quantity  Price\n",
      "0   2023-01-01  Widget A      10.0   15.5\n",
      "1   2023-01-01  Widget B       5.0   20.0\n",
      "2   2023-01-02  Widget A       8.0   15.5\n",
      "3   2023-01-02  Widget C       3.0   25.0\n",
      "4   2023-01-03  Widget A      15.0    NaN\n",
      "5   2023-01-03  Widget B       NaN   20.0\n",
      "6   2023-01-04  Widget C       7.0   25.0\n",
      "7   2023-01-05  Widget A      10.0   15.5\n",
      "8   2023-01-05  Widget B      10.0   20.0\n",
      "9   2023-01-06  Widget D       5.0   30.0\n",
      "10  2023-01-06  Widget E       3.0   40.0\n",
      "11  2023-01-07  Widget A      12.0   15.5\n",
      "12  2023-01-07  Widget C       6.0   25.0\n",
      "13  2023-01-08  Widget D       8.0   30.0\n",
      "14  2023-01-08  Widget B      10.0   20.0\n"
     ]
    }
   ],
   "source": [
    "import pandas as pd\n",
    "\n",
    "#load data from csv\n",
    "data = pd.read_csv(\"sales_data.csv\")\n",
    "\n",
    "#Display the data\n",
    "print(data)"
   ]
  },
  {
   "cell_type": "markdown",
   "metadata": {},
   "source": [
    "tep 2: Data Cleaning"
   ]
  },
  {
   "cell_type": "code",
   "execution_count": 4,
   "metadata": {},
   "outputs": [
    {
     "name": "stdout",
     "output_type": "stream",
     "text": [
      "Date        0\n",
      "Product     0\n",
      "Quantity    1\n",
      "Price       1\n",
      "dtype: int64\n",
      "Date        0\n",
      "Product     0\n",
      "Quantity    0\n",
      "Price       0\n",
      "dtype: int64\n"
     ]
    },
    {
     "name": "stderr",
     "output_type": "stream",
     "text": [
      "C:\\Users\\hmdkr\\AppData\\Local\\Temp\\ipykernel_6000\\1428300258.py:6: FutureWarning: A value is trying to be set on a copy of a DataFrame or Series through chained assignment using an inplace method.\n",
      "The behavior will change in pandas 3.0. This inplace method will never work because the intermediate object on which we are setting values always behaves as a copy.\n",
      "\n",
      "For example, when doing 'df[col].method(value, inplace=True)', try using 'df.method({col: value}, inplace=True)' or df[col] = df[col].method(value) instead, to perform the operation inplace on the original object.\n",
      "\n",
      "\n",
      "  data['Quantity'].fillna(0, inplace=True)\n",
      "C:\\Users\\hmdkr\\AppData\\Local\\Temp\\ipykernel_6000\\1428300258.py:7: FutureWarning: A value is trying to be set on a copy of a DataFrame or Series through chained assignment using an inplace method.\n",
      "The behavior will change in pandas 3.0. This inplace method will never work because the intermediate object on which we are setting values always behaves as a copy.\n",
      "\n",
      "For example, when doing 'df[col].method(value, inplace=True)', try using 'df.method({col: value}, inplace=True)' or df[col] = df[col].method(value) instead, to perform the operation inplace on the original object.\n",
      "\n",
      "\n",
      "  data['Price'].fillna(data['Price'].mean(), inplace=True)\n"
     ]
    }
   ],
   "source": [
    "#check for missing values\n",
    "\n",
    "print(data.isnull().sum())\n",
    "\n",
    "#Fill missing  'Quantity' with 0, 'Price' with mean, and drop rows with missing 'Date' or 'Product'\n",
    "data['Quantity'].fillna(0, inplace=True)\n",
    "data['Price'].fillna(data['Price'].mean(), inplace=True)\n",
    "data.dropna(subset=['Date','Product'], inplace=True)\n",
    "\n",
    "#Remove duplicates\n",
    "data.drop_duplicates(inplace=True)\n",
    "\n",
    "#Verify the cleaning\n",
    "print(data.isnull().sum())\n"
   ]
  },
  {
   "cell_type": "code",
   "execution_count": 5,
   "metadata": {},
   "outputs": [
    {
     "name": "stdout",
     "output_type": "stream",
     "text": [
      "Product\n",
      "Widget A    55.0\n",
      "Widget B    25.0\n",
      "Widget C    16.0\n",
      "Widget D    13.0\n",
      "Widget E     3.0\n",
      "Name: Quantity, dtype: float64\n"
     ]
    }
   ],
   "source": [
    "#  group by function\n",
    "grouped = data.groupby(\"Product\")\n",
    "print(grouped[\"Quantity\"].sum())\n"
   ]
  },
  {
   "cell_type": "code",
   "execution_count": 7,
   "metadata": {},
   "outputs": [
    {
     "data": {
      "text/plain": [
       "Product\n",
       "Widget A    11.000000\n",
       "Widget B     6.250000\n",
       "Widget C     5.333333\n",
       "Widget D     6.500000\n",
       "Widget E     3.000000\n",
       "Name: Quantity, dtype: float64"
      ]
     },
     "execution_count": 7,
     "metadata": {},
     "output_type": "execute_result"
    }
   ],
   "source": [
    "data.groupby('Product')['Quantity'].mean()\n"
   ]
  },
  {
   "cell_type": "code",
   "execution_count": null,
   "metadata": {},
   "outputs": [
    {
     "name": "stdout",
     "output_type": "stream",
     "text": [
      "Date        datetime64[ns]\n",
      "Product             object\n",
      "Quantity           float64\n",
      "Price              float64\n",
      "dtype: object\n"
     ]
    }
   ],
   "source": [
    "# astype() function to convert the 'Date' column to datetime and check the data types of the columns in the DataFrame using the dtypes attribute: \n",
    "\n",
    "data['Date'] = pd.to_datetime(data['Date'])\n",
    "print(data.dtypes)\n",
    "\n"
   ]
  },
  {
   "cell_type": "code",
   "execution_count": 9,
   "metadata": {},
   "outputs": [
    {
     "data": {
      "text/html": [
       "<div>\n",
       "<style scoped>\n",
       "    .dataframe tbody tr th:only-of-type {\n",
       "        vertical-align: middle;\n",
       "    }\n",
       "\n",
       "    .dataframe tbody tr th {\n",
       "        vertical-align: top;\n",
       "    }\n",
       "\n",
       "    .dataframe thead th {\n",
       "        text-align: right;\n",
       "    }\n",
       "</style>\n",
       "<table border=\"1\" class=\"dataframe\">\n",
       "  <thead>\n",
       "    <tr style=\"text-align: right;\">\n",
       "      <th></th>\n",
       "      <th>Date</th>\n",
       "      <th>Product</th>\n",
       "      <th>Quantity</th>\n",
       "      <th>Price</th>\n",
       "    </tr>\n",
       "  </thead>\n",
       "  <tbody>\n",
       "    <tr>\n",
       "      <th>count</th>\n",
       "      <td>15</td>\n",
       "      <td>15</td>\n",
       "      <td>15.000000</td>\n",
       "      <td>15.000000</td>\n",
       "    </tr>\n",
       "    <tr>\n",
       "      <th>unique</th>\n",
       "      <td>NaN</td>\n",
       "      <td>5</td>\n",
       "      <td>NaN</td>\n",
       "      <td>NaN</td>\n",
       "    </tr>\n",
       "    <tr>\n",
       "      <th>top</th>\n",
       "      <td>NaN</td>\n",
       "      <td>Widget A</td>\n",
       "      <td>NaN</td>\n",
       "      <td>NaN</td>\n",
       "    </tr>\n",
       "    <tr>\n",
       "      <th>freq</th>\n",
       "      <td>NaN</td>\n",
       "      <td>5</td>\n",
       "      <td>NaN</td>\n",
       "      <td>NaN</td>\n",
       "    </tr>\n",
       "    <tr>\n",
       "      <th>mean</th>\n",
       "      <td>2023-01-04 12:48:00</td>\n",
       "      <td>NaN</td>\n",
       "      <td>7.466667</td>\n",
       "      <td>22.642857</td>\n",
       "    </tr>\n",
       "    <tr>\n",
       "      <th>min</th>\n",
       "      <td>2023-01-01 00:00:00</td>\n",
       "      <td>NaN</td>\n",
       "      <td>0.000000</td>\n",
       "      <td>15.500000</td>\n",
       "    </tr>\n",
       "    <tr>\n",
       "      <th>25%</th>\n",
       "      <td>2023-01-02 12:00:00</td>\n",
       "      <td>NaN</td>\n",
       "      <td>5.000000</td>\n",
       "      <td>17.750000</td>\n",
       "    </tr>\n",
       "    <tr>\n",
       "      <th>50%</th>\n",
       "      <td>2023-01-05 00:00:00</td>\n",
       "      <td>NaN</td>\n",
       "      <td>8.000000</td>\n",
       "      <td>20.000000</td>\n",
       "    </tr>\n",
       "    <tr>\n",
       "      <th>75%</th>\n",
       "      <td>2023-01-06 12:00:00</td>\n",
       "      <td>NaN</td>\n",
       "      <td>10.000000</td>\n",
       "      <td>25.000000</td>\n",
       "    </tr>\n",
       "    <tr>\n",
       "      <th>max</th>\n",
       "      <td>2023-01-08 00:00:00</td>\n",
       "      <td>NaN</td>\n",
       "      <td>15.000000</td>\n",
       "      <td>40.000000</td>\n",
       "    </tr>\n",
       "    <tr>\n",
       "      <th>std</th>\n",
       "      <td>NaN</td>\n",
       "      <td>NaN</td>\n",
       "      <td>3.907258</td>\n",
       "      <td>6.856771</td>\n",
       "    </tr>\n",
       "  </tbody>\n",
       "</table>\n",
       "</div>"
      ],
      "text/plain": [
       "                       Date   Product   Quantity      Price\n",
       "count                    15        15  15.000000  15.000000\n",
       "unique                  NaN         5        NaN        NaN\n",
       "top                     NaN  Widget A        NaN        NaN\n",
       "freq                    NaN         5        NaN        NaN\n",
       "mean    2023-01-04 12:48:00       NaN   7.466667  22.642857\n",
       "min     2023-01-01 00:00:00       NaN   0.000000  15.500000\n",
       "25%     2023-01-02 12:00:00       NaN   5.000000  17.750000\n",
       "50%     2023-01-05 00:00:00       NaN   8.000000  20.000000\n",
       "75%     2023-01-06 12:00:00       NaN  10.000000  25.000000\n",
       "max     2023-01-08 00:00:00       NaN  15.000000  40.000000\n",
       "std                     NaN       NaN   3.907258   6.856771"
      ]
     },
     "execution_count": 9,
     "metadata": {},
     "output_type": "execute_result"
    }
   ],
   "source": [
    "data.describe(include= 'all')"
   ]
  },
  {
   "cell_type": "code",
   "execution_count": 10,
   "metadata": {},
   "outputs": [
    {
     "name": "stdout",
     "output_type": "stream",
     "text": [
      "<class 'pandas.core.frame.DataFrame'>\n",
      "RangeIndex: 15 entries, 0 to 14\n",
      "Data columns (total 4 columns):\n",
      " #   Column    Non-Null Count  Dtype         \n",
      "---  ------    --------------  -----         \n",
      " 0   Date      15 non-null     datetime64[ns]\n",
      " 1   Product   15 non-null     object        \n",
      " 2   Quantity  15 non-null     float64       \n",
      " 3   Price     15 non-null     float64       \n",
      "dtypes: datetime64[ns](1), float64(2), object(1)\n",
      "memory usage: 612.0+ bytes\n"
     ]
    }
   ],
   "source": [
    "data.info()"
   ]
  },
  {
   "cell_type": "code",
   "execution_count": null,
   "metadata": {},
   "outputs": [],
   "source": []
  },
  {
   "cell_type": "markdown",
   "metadata": {},
   "source": [
    "Step 3: Data Transformation"
   ]
  },
  {
   "cell_type": "code",
   "execution_count": null,
   "metadata": {},
   "outputs": [],
   "source": [
    "#Create a new coulmn for Total sales\n",
    "\n",
    "data['Total_Sales'] = data['Quantity'] * data['Price']\n",
    "\n",
    "#Display the transformed data\n",
    "print(data)"
   ]
  },
  {
   "cell_type": "markdown",
   "metadata": {},
   "source": [
    "Step 4: Data Analysis"
   ]
  },
  {
   "cell_type": "code",
   "execution_count": null,
   "metadata": {},
   "outputs": [],
   "source": [
    "#Group by product and sum up total sales\n",
    "product_sales = data.groupby('Product')['Total_Sales'].sum().reset_index()\n",
    "\n",
    "#Display the sales per product\n",
    "print(product_sales)"
   ]
  },
  {
   "cell_type": "markdown",
   "metadata": {},
   "source": [
    "Visualize the total sales per product"
   ]
  },
  {
   "cell_type": "code",
   "execution_count": null,
   "metadata": {},
   "outputs": [],
   "source": [
    "import matplotlib.pyplot as plt \n",
    "\n",
    "#Plot total sales per product\n",
    "plt.figure(figsize=(10, 6))\n",
    "plt.bar(product_sales['Product'], product_sales['Total_Sales'])\n",
    "plt.xlabel('Product')\n",
    "plt.ylabel('Total Sales')\n",
    "plt.title('Total Sales per Product')\n",
    "plt.show()"
   ]
  },
  {
   "cell_type": "markdown",
   "metadata": {},
   "source": [
    "# show by pie chart"
   ]
  },
  {
   "cell_type": "code",
   "execution_count": null,
   "metadata": {},
   "outputs": [],
   "source": [
    "# create a pie chart of total sales per product\n",
    "plt.figure(figsize=(6, 4))\n",
    "plt.pie(product_sales['Total_Sales'], labels=product_sales['Product'], autopct='%1.1f%%')\n",
    "plt.title('Total Sales per Product')\n",
    "plt.show()"
   ]
  },
  {
   "cell_type": "markdown",
   "metadata": {},
   "source": [
    "Step 5: Save the Cleaned Data"
   ]
  },
  {
   "cell_type": "code",
   "execution_count": null,
   "metadata": {},
   "outputs": [],
   "source": [
    "#Save the cleaned and processed data to a new csv file\n",
    "\n",
    "data.to_csv(\"cleand_sales_data.csv\", index=False)\n",
    "\n",
    "print(\"Data saved to cleaned_sales_data.csv\")"
   ]
  },
  {
   "cell_type": "code",
   "execution_count": null,
   "metadata": {},
   "outputs": [],
   "source": []
  }
 ],
 "metadata": {
  "kernelspec": {
   "display_name": "base",
   "language": "python",
   "name": "python3"
  },
  "language_info": {
   "codemirror_mode": {
    "name": "ipython",
    "version": 3
   },
   "file_extension": ".py",
   "mimetype": "text/x-python",
   "name": "python",
   "nbconvert_exporter": "python",
   "pygments_lexer": "ipython3",
   "version": "3.12.7"
  }
 },
 "nbformat": 4,
 "nbformat_minor": 2
}

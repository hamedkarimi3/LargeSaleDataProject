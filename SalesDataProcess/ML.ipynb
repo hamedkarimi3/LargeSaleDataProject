{
 "cells": [
  {
   "cell_type": "markdown",
   "metadata": {},
   "source": [
    ">>Machine learning ,\n",
    "\n",
    ">>labeling data: \n",
    "Structure data, unstructure data\n",
    "\n",
    "Supervised ML:\n",
    "Structure data :regresion Algoritm, classification algoritm\n",
    "\n",
    ">>Unsupervised ML :\n",
    "Assositions, \n",
    "clustering: kMean, DB Scan\n",
    "\n",
    ">>MLA:\n",
    "Regrission , Classification , Clustring\n",
    "\n",
    "Linear Regrision : Regresion, Supervised M/L, Structured Data\n",
    "\n",
    ">> y = mx + c   //m:slop, c : Intercept\n",
    "\n",
    "// regresion for find m between several line :\n",
    "choose best line:or best fit line, error is minimum\n",
    "\n",
    "\n",
    ">>aggregate the error:\n",
    "n is number of error or the poine distance from the fit line\n",
    "\n",
    "Mean absolute error: MAE : sigma |error| \n",
    "\n",
    "MSE : SIGMA|ERROR|**2  / n    //MEAN SQUARE ERROR\n",
    "\n",
    "RMSE : N/SQRT(SIGMA(ERROR))**2/N\n",
    "\n",
    "COST FUNCTION - LOSS FUNCTION = rmse\n",
    "\n",
    ">>y = mx +c \n",
    "y = 1.2x + c  rmse = 50\n",
    "y = 1.3 + c   rmse = 45\n",
    "y= 104x + c   rmse = 40\n",
    "y = 105x + c  rmse = 50\n",
    "\n",
    "rmse = 0\n",
    ">>cost function --> congfunction\n",
    "aim is to reach minium value = global minimum\n",
    "\n",
    ">>gradient Descent optimization\n",
    "\n",
    "instead slop say weight \n",
    "\n",
    "y = w1x1 + w0 // w1 =wieght , w0 = intercept\n",
    "\n",
    "\n",
    "y = w1x1 +w2x2 +.......w0\n",
    "\n",
    "\n",
    "W(new) = W(old) + n * delta.CF/delta.W\n"
   ]
  },
  {
   "cell_type": "markdown",
   "metadata": {},
   "source": [
    "Assumptions based on linear Regression :\n",
    "\n",
    "1. every feature is "
   ]
  },
  {
   "cell_type": "code",
   "execution_count": null,
   "metadata": {},
   "outputs": [],
   "source": [
    "# Linear Regression\n",
    "\n",
    "# import liberaries\n",
    "import numpy as np\n",
    "import pandas as pd\n",
    "import matplotlib.pyplot as plt\n",
    "import seaborn as sns"
   ]
  },
  {
   "cell_type": "code",
   "execution_count": 2,
   "metadata": {},
   "outputs": [
    {
     "name": "stdout",
     "output_type": "stream",
     "text": [
      "(100, 1) (100,)\n"
     ]
    }
   ],
   "source": [
    "# generate dataset\n",
    "from sklearn.datasets import make_regression\n",
    "X, y = make_regression(n_samples=100, n_features=1, noise=10)\n",
    "print(X.shape, y.shape)\n"
   ]
  },
  {
   "cell_type": "code",
   "execution_count": 5,
   "metadata": {},
   "outputs": [
    {
     "name": "stdout",
     "output_type": "stream",
     "text": [
      "Mean Squared Error: 138.26397490638615\n",
      "R^2 Score: 0.9653619053723139\n"
     ]
    },
    {
     "data": {
      "image/png": "[encoded data removed]",
      "text/plain": [
       "<Figure size 640x480 with 1 Axes>"
      ]
     },
     "metadata": {},
     "output_type": "display_data"
    }
   ],
   "source": [
    "import matplotlib.pyplot as plt\n",
    "from sklearn.linear_model import LinearRegression\n",
    "from sklearn.model_selection import train_test_split\n",
    "from sklearn.metrics import mean_squared_error, r2_score\n",
    "\n",
    "# Split the dataset into training and testing sets\n",
    "X_train, X_test, y_train, y_test = train_test_split(X, y, test_size=0.2, random_state=42)\n",
    "\n",
    "# Create a linear regression model\n",
    "model = LinearRegression()\n",
    "\n",
    "# Train the model\n",
    "model.fit(X_train, y_train)\n",
    "\n",
    "# Make predictions\n",
    "y_pred = model.predict(X_test)\n",
    "\n",
    "# Evaluate the model\n",
    "mse = mean_squared_error(y_test, y_pred)\n",
    "r2 = r2_score(y_test, y_pred)\n",
    "\n",
    "print(f\"Mean Squared Error: {mse}\")\n",
    "print(f\"R^2 Score: {r2}\")\n",
    "\n",
    "# Plot the results\n",
    "#plt.scatter(X_test, y_test, color='black', label='Actual data')\n",
    "plt.plot(X_test, y_pred, color='blue', linewidth=3, label='Predicted line')\n",
    "plt.xlabel('X')\n",
    "plt.ylabel('y')\n",
    "plt.title('Linear Regression')\n",
    "plt.legend()\n",
    "plt.show()"
   ]
  }
 ],
 "metadata": {
  "kernelspec": {
   "display_name": "base",
   "language": "python",
   "name": "python3"
  },
  "language_info": {
   "codemirror_mode": {
    "name": "ipython",
    "version": 3
   },
   "file_extension": ".py",
   "mimetype": "text/x-python",
   "name": "python",
   "nbconvert_exporter": "python",
   "pygments_lexer": "ipython3",
   "version": "3.12.7"
  }
 },
 "nbformat": 4,
 "nbformat_minor": 2
}

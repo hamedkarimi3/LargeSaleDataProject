{
 "cells": [
  {
   "cell_type": "markdown",
   "metadata": {},
   "source": [
    ">>Machine learning ,\n",
    "\n",
    ">>labeling data: \n",
    "Structure data, unstructure data\n",
    "\n",
    "Supervised ML:\n",
    "Structure data :regresion Algoritm, classification algoritm\n",
    "\n",
    ">>Unsupervised ML :\n",
    "Assositions, \n",
    "clustering: kMean, DB Scan\n",
    "\n",
    ">>MLA:\n",
    "Regrission , Classification , Clustring\n",
    "\n",
    "Linear Regrision : Regresion, Supervised M/L, Structured Data\n",
    "\n",
    ">> y = mx + c   //m:slop, c : Intercept\n",
    "\n",
    "// regresion for find m between several line :\n",
    "choose best line:or best fit line, error is minimum\n",
    "\n",
    "\n",
    ">>aggregate the error:\n",
    "n is number of error or the poine distance from the fit line\n",
    "\n",
    "Mean absolute error: MAE : sigma |error| \n",
    "\n",
    "MSE : SIGMA|ERROR|**2  / n    //MEAN SQUARE ERROR\n",
    "\n",
    "RMSE : N/SQRT(SIGMA(ERROR))**2/N\n",
    "\n",
    "COST FUNCTION - LOSS FUNCTION = rmse\n",
    "\n",
    ">>y = mx +c \n",
    "y = 1.2x + c  rmse = 50\n",
    "y = 1.3 + c   rmse = 45\n",
    "y= 104x + c   rmse = 40\n",
    "y = 105x + c  rmse = 50\n",
    "\n",
    "rmse = 0\n",
    ">>cost function --> congfunction\n",
    "aim is to reach minium value = global minimum\n",
    "\n",
    ">>gradient Descent optimization\n",
    "\n",
    "instead slop say weight \n",
    "\n",
    "y = w1x1 + w0 // w1 =wieght , w0 = intercept\n",
    "\n",
    "\n",
    "y = w1x1 +w2x2 +.......w0\n",
    "\n",
    "\n",
    "W(new) = W(old) + n * delta.CF/delta.W\n"
   ]
  },
  {
   "cell_type": "markdown",
   "metadata": {},
   "source": [
    "Assumptions based on linear Regression :\n",
    "\n",
    "1. every feature is "
   ]
  },
  {
   "cell_type": "code",
   "execution_count": null,
   "metadata": {},
   "outputs": [],
   "source": [
    "# Linear Regression\n",
    "\n",
    "# import liberaries\n",
    "import numpy as np\n",
    "import pandas as pd\n",
    "import matplotlib.pyplot as plt\n",
    "import seaborn as sns\n"
   ]
  }
 ],
 "metadata": {
  "kernelspec": {
   "display_name": "base",
   "language": "python",
   "name": "python3"
  },
  "language_info": {
   "name": "python",
   "version": "3.12.7"
  }
 },
 "nbformat": 4,
 "nbformat_minor": 2
}

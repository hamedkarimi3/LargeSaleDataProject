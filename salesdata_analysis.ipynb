{
 "cells": [
  {
   "cell_type": "markdown",
   "metadata": {},
   "source": [
    "Total Sales per Product"
   ]
  },
  {
   "cell_type": "code",
   "execution_count": 2,
   "metadata": {},
   "outputs": [],
   "source": [
    "from pyspark.sql import SparkSession\n",
    "from pyspark.sql.functions import month, year"
   ]
  },
  {
   "cell_type": "markdown",
   "metadata": {},
   "source": []
  },
  {
   "cell_type": "code",
   "execution_count": 4,
   "metadata": {},
   "outputs": [],
   "source": [
    "#Initialize Spark session\n",
    "spark = SparkSession.builder.appName(\"Sales Data Analysis\").getOrCreate()"
   ]
  },
  {
   "cell_type": "code",
   "execution_count": 5,
   "metadata": {},
   "outputs": [],
   "source": [
    "# Load data into Spark DataFrame (if not already done)\n",
    "\n",
    "sales_df = spark.read.jdbc(\n",
    "    url=\"jdbc:postgresql://localhost:5432/salesdb\",\n",
    "    table=\"sales_summary\",\n",
    "    properties={\"user\": \"hk3\", \"password\": \"admin123\", \"driver\": \"org.postgresql.Driver\"}\n",
    ")"
   ]
  },
  {
   "cell_type": "code",
   "execution_count": 6,
   "metadata": {},
   "outputs": [],
   "source": [
    "# Calculate total sales per product\n",
    "\n",
    "sales_per_product = sales_df.groupBy(\"Product\").sum(\"Total_Sales\").withColumnRenamed(\"sum(Total_Sales)\", \"Total_Sales\")"
   ]
  },
  {
   "cell_type": "code",
   "execution_count": 8,
   "metadata": {},
   "outputs": [],
   "source": [
    "# Calculate total sales per month# Calculate total sales per month\n",
    "\n",
    "sales_per_month = sales_df.withColumn(\"Month\", month(\"Date\")).groupBy(\"Month\").sum(\"Total_Sales\").withColumnRenamed(\"sum(Total_Sales)\", \"Total_Sales\")"
   ]
  },
  {
   "cell_type": "markdown",
   "metadata": {},
   "source": [
    "### Show the results"
   ]
  },
  {
   "cell_type": "code",
   "execution_count": 9,
   "metadata": {},
   "outputs": [
    {
     "name": "stdout",
     "output_type": "stream",
     "text": [
      "+--------+--------------------+\n",
      "| Product|         Total_Sales|\n",
      "+--------+--------------------+\n",
      "|Widget C|3.0073093329999946E7|\n",
      "|Widget E|3.0204016930000033E7|\n",
      "|Widget B|2.9901880950000014E7|\n",
      "|Widget A|3.0102650809999943E7|\n",
      "|Widget D|2.9836268410000008E7|\n",
      "+--------+--------------------+\n",
      "\n"
     ]
    }
   ],
   "source": [
    "sales_per_product.show(10)"
   ]
  },
  {
   "cell_type": "code",
   "execution_count": 10,
   "metadata": {},
   "outputs": [
    {
     "name": "stdout",
     "output_type": "stream",
     "text": [
      "+-----+--------------------+\n",
      "|Month|         Total_Sales|\n",
      "+-----+--------------------+\n",
      "|   12|1.2297027580000006E7|\n",
      "|    1|       1.289065724E7|\n",
      "|    6|1.2376445729999997E7|\n",
      "|    3|1.2715817510000043E7|\n",
      "|    5|1.2770325129999975E7|\n",
      "|    9|1.2277893910000006E7|\n",
      "|    4|1.2478181470000012E7|\n",
      "|    8|1.2786480920000002E7|\n",
      "|    7|1.2778522290000029E7|\n",
      "|   10|1.2776245289999986E7|\n",
      "+-----+--------------------+\n",
      "only showing top 10 rows\n",
      "\n"
     ]
    }
   ],
   "source": [
    "sales_per_month.show(10)"
   ]
  },
  {
   "cell_type": "markdown",
   "metadata": {},
   "source": [
    "### Sort products by total sales"
   ]
  },
  {
   "cell_type": "code",
   "execution_count": 11,
   "metadata": {},
   "outputs": [],
   "source": [
    "sorted_sales_per_product = sales_per_product.orderBy(\"Total_Sales\", ascending=False)"
   ]
  },
  {
   "cell_type": "code",
   "execution_count": 12,
   "metadata": {},
   "outputs": [
    {
     "name": "stdout",
     "output_type": "stream",
     "text": [
      "+--------+--------------------+\n",
      "| Product|         Total_Sales|\n",
      "+--------+--------------------+\n",
      "|Widget E|3.0204016930000033E7|\n",
      "|Widget A|3.0102650809999943E7|\n",
      "|Widget C|3.0073093329999946E7|\n",
      "|Widget B|2.9901880950000014E7|\n",
      "|Widget D|2.9836268410000008E7|\n",
      "+--------+--------------------+\n",
      "\n"
     ]
    }
   ],
   "source": [
    "sorted_sales_per_product.show(10)"
   ]
  }
 ],
 "metadata": {
  "kernelspec": {
   "display_name": "Python 3",
   "language": "python",
   "name": "python3"
  },
  "language_info": {
   "codemirror_mode": {
    "name": "ipython",
    "version": 3
   },
   "file_extension": ".py",
   "mimetype": "text/x-python",
   "name": "python",
   "nbconvert_exporter": "python",
   "pygments_lexer": "ipython3",
   "version": "3.13.0"
  }
 },
 "nbformat": 4,
 "nbformat_minor": 2
}

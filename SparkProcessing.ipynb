{
 "cells": [
  {
   "cell_type": "code",
   "execution_count": null,
   "metadata": {},
   "outputs": [
    {
     "ename": "SyntaxError",
     "evalue": "(unicode error) 'unicodeescape' codec can't decode bytes in position 2-3: truncated \\UXXXXXXXX escape (2655016824.py, line 11)",
     "output_type": "error",
     "traceback": [
      "\u001b[1;36m  Cell \u001b[1;32mIn[1], line 11\u001b[1;36m\u001b[0m\n\u001b[1;33m    df = spark.read.csv(\"C:\\Users\\hmdkr\\Documents\\ADataEngineeringUdemyCourse\\LargeSaleDataProject\\large_sales_data.csv\", header=True, inferSchema=True)\u001b[0m\n\u001b[1;37m                                                                                                                        ^\u001b[0m\n\u001b[1;31mSyntaxError\u001b[0m\u001b[1;31m:\u001b[0m (unicode error) 'unicodeescape' codec can't decode bytes in position 2-3: truncated \\UXXXXXXXX escape\n"
     ]
    }
   ],
   "source": [
    "from pyspark.sql import SparkSession\n",
    "from pyspark.sql.functions import col, sum as spark_sum\n",
    "\n",
    "# Initialize Spark session\n",
    "spark = SparkSession.builder \\\n",
    "    .appName(\"Sales Data Processing\") \\\n",
    "    .config(\"spark.jars\", \"/opt/spark/jars/postgresql-42.2.5.jar\") \\\n",
    "    .getOrCreate()\n",
    "\n",
    "# Load sales data\n",
    "df = spark.read.csv(\"C:\\Users\\hmdkr\\Documents\\ADataEngineeringUdemyCourse\\large_sales_data.csv\", header=True, inferSchema=True)\n",
    "\n",
    "# Calculate total sales per product per day\n",
    "sales_summary = df.groupBy(\"Date\", \"Product\") \\\n",
    "    .agg(spark_sum(col(\"Quantity\") * col(\"Price\")).alias(\"Total_Sales\"))\n",
    "\n",
    "# Write to PostgreSQL\n",
    "db_properties = {\n",
    "    \"user\": \"hk3\",\n",
    "    \"password\": \"admin123\",\n",
    "    \"driver\": \"org.postgresql.Driver\"\n",
    "}\n",
    "sales_summary.write.jdbc(\n",
    "    url=\"jdbc:postgresql://postgres-container:5432/salesdb\",\n",
    "    table=\"sales_summary\",\n",
    "    mode=\"overwrite\",\n",
    "    properties=db_properties\n",
    ")\n",
    "print(\"Data loaded into PostgreSQL\")\n"
   ]
  }
 ],
 "metadata": {
  "kernelspec": {
   "display_name": "Python 3",
   "language": "python",
   "name": "python3"
  },
  "language_info": {
   "codemirror_mode": {
    "name": "ipython",
    "version": 3
   },
   "file_extension": ".py",
   "mimetype": "text/x-python",
   "name": "python",
   "nbconvert_exporter": "python",
   "pygments_lexer": "ipython3",
   "version": "3.11.5"
  }
 },
 "nbformat": 4,
 "nbformat_minor": 2
}

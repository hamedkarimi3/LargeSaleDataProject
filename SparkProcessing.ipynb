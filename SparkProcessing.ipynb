{
 "cells": [
  {
   "cell_type": "code",
   "execution_count": 5,
   "metadata": {},
   "outputs": [
    {
     "name": "stdout",
     "output_type": "stream",
     "text": [
      "Data loaded into PostgreSQL\n"
     ]
    }
   ],
   "source": [
    "from pyspark.sql import SparkSession\n",
    "from pyspark.sql.functions import col, sum as spark_sum\n",
    "\n",
    "# Initialize Spark session with JDBC driver path (if required)\n",
    "spark = SparkSession.builder \\\n",
    "    .appName(\"Sales Data Processing\") \\\n",
    "    .config(\"spark.jars\", \"C:/Users/hmdkr/spark/spark-3.5.3-bin-hadoop3/jars/postgresql-42.7.4.jar\") \\\n",
    "    .getOrCreate()\n",
    "\n",
    "# Load sales data\n",
    "df = spark.read.csv(\"C:/Users/hmdkr/Documents/ADataEngineeringUdemyCourse/LargeSaleDataProject/large_sales_data.csv\", header=True, inferSchema=True)\n",
    "\n",
    "# Calculate total sales per product per day\n",
    "sales_summary = df.groupBy(\"Date\", \"Product\") \\\n",
    "    .agg(spark_sum(col(\"Quantity\") * col(\"Price\")).alias(\"Total_Sales\"))\n",
    "\n",
    "# PostgreSQL database connection properties\n",
    "db_properties = {\n",
    "    \"user\": \"hk3\",\n",
    "    \"password\": \"admin123\",\n",
    "    \"driver\": \"org.postgresql.Driver\"\n",
    "}\n",
    "\n",
    "# Write the DataFrame to PostgreSQL\n",
    "sales_summary.write.jdbc(\n",
    "    url=\"jdbc:postgresql://localhost:5432/salesdb\",\n",
    "    table=\"sales_summary\",\n",
    "    mode=\"overwrite\",\n",
    "    properties=db_properties\n",
    ")\n",
    "\n",
    "print(\"Data loaded into PostgreSQL\")\n"
   ]
  }
 ],
 "metadata": {
  "kernelspec": {
   "display_name": "Python 3",
   "language": "python",
   "name": "python3"
  },
  "language_info": {
   "codemirror_mode": {
    "name": "ipython",
    "version": 3
   },
   "file_extension": ".py",
   "mimetype": "text/x-python",
   "name": "python",
   "nbconvert_exporter": "python",
   "pygments_lexer": "ipython3",
   "version": "3.11.5"
  }
 },
 "nbformat": 4,
 "nbformat_minor": 2
}

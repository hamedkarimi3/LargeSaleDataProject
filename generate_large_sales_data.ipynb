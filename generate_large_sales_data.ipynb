{
 "cells": [
  {
   "cell_type": "code",
   "execution_count": 1,
   "metadata": {},
   "outputs": [
    {
     "name": "stdout",
     "output_type": "stream",
     "text": [
      "Large dataset saved as 'large_sales_data.csv'\n"
     ]
    }
   ],
   "source": [
    "#To generate a large dataset\n",
    "\n",
    "\n",
    "import pandas as pd\n",
    "import numpy as np\n",
    "from datetime import datetime, timedelta\n",
    "\n",
    "# Generate a large synthetic dataset\n",
    "dates = pd.date_range(start=\"2023-01-01\", end=\"2023-12-31\", freq='H')\n",
    "products = [\"Widget A\", \"Widget B\", \"Widget C\", \"Widget D\", \"Widget E\"]\n",
    "\n",
    "data = {\n",
    "    \"Date\": np.random.choice(dates, 500000),\n",
    "    \"Product\": np.random.choice(products, 500000),\n",
    "    \"Quantity\": np.random.randint(1, 20, size=500000),\n",
    "    \"Price\": np.round(np.random.uniform(10, 50, size=500000), 2)\n",
    "}\n",
    "\n",
    "large_sales_data = pd.DataFrame(data)\n",
    "large_sales_data.to_csv(\"large_sales_data.csv\", index=False)\n",
    "print(\"Large dataset saved as 'large_sales_data.csv'\")\n"
   ]
  }
 ],
 "metadata": {
  "kernelspec": {
   "display_name": "Python 3",
   "language": "python",
   "name": "python3"
  },
  "language_info": {
   "codemirror_mode": {
    "name": "ipython",
    "version": 3
   },
   "file_extension": ".py",
   "mimetype": "text/x-python",
   "name": "python",
   "nbconvert_exporter": "python",
   "pygments_lexer": "ipython3",
   "version": "3.11.5"
  }
 },
 "nbformat": 4,
 "nbformat_minor": 2
}

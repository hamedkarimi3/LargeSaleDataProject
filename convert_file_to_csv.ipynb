{
 "cells": [
  {
   "cell_type": "code",
   "execution_count": 3,
   "metadata": {},
   "outputs": [
    {
     "name": "stdout",
     "output_type": "stream",
     "text": [
      "Data saved to 'sales_data.csv'\n"
     ]
    }
   ],
   "source": [
    "import pandas as pd\n",
    "\n",
    "#sample data in dic format\n",
    "\n",
    "data = {\n",
    "    \"Date\": [\n",
    "         \"2023-01-01\", \"2023-01-01\", \"2023-01-02\", \"2023-01-02\",\n",
    "        \"2023-01-03\", \"2023-01-03\", \"2023-01-04\", \"2023-01-05\",\n",
    "        \"2023-01-05\", \"2023-01-06\", \"2023-01-06\", \"2023-01-07\",\n",
    "        \"2023-01-07\", \"2023-01-08\", \"2023-01-08\"\n",
    "    ],\n",
    "    \"Product\": [\n",
    "        \"Widget A\", \"Widget B\", \"Widget A\", \"Widget C\", \n",
    "        \"Widget A\", \"Widget B\", \"Widget C\", \"Widget A\", \n",
    "        \"Widget B\", \"Widget D\", \"Widget E\", \"Widget A\", \n",
    "        \"Widget C\", \"Widget D\", \"Widget B\"\n",
    "    ],\n",
    "    \"Quantity\": [\n",
    "        10, 5, 8, 3, 15, None, 7, 10, 10, 5, 3, 12, 6, 8, 10\n",
    "    ],\n",
    "     \"Price\": [\n",
    "        15.5, 20.0, 15.5, 25.0, None, 20.0, 25.0, 15.5, \n",
    "        20.0, 30.0, 40.0, 15.5, 25.0, 30.0, 20.0\n",
    "    ],\n",
    "\n",
    "}\n",
    "\n",
    "#convert dictionary to DataFrame\n",
    "df = pd.DataFrame(data)\n",
    "\n",
    "#save DataFrame to csv\n",
    "df.to_csv(\"sales_data.csv\", index=False)\n",
    "print(\"Data saved to 'sales_data.csv'\")"
   ]
  }
 ],
 "metadata": {
  "kernelspec": {
   "display_name": "Python 3",
   "language": "python",
   "name": "python3"
  },
  "language_info": {
   "codemirror_mode": {
    "name": "ipython",
    "version": 3
   },
   "file_extension": ".py",
   "mimetype": "text/x-python",
   "name": "python",
   "nbconvert_exporter": "python",
   "pygments_lexer": "ipython3",
   "version": "3.11.5"
  }
 },
 "nbformat": 4,
 "nbformat_minor": 2
}
